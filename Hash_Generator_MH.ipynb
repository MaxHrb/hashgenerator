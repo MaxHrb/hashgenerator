{
 "cells": [
  {
   "cell_type": "code",
   "execution_count": 49,
   "metadata": {},
   "outputs": [],
   "source": [
    "import hashlib\n",
    "\n",
    "import os\n",
    "import csv\n",
    "import xlsxwriter\n",
    "from datetime import datetime\n",
    "\n",
    "path = r'C:\\Users\\mharbauer\\Desktop\\Report.xlsx'\n",
    "\n",
    "with open(path, 'rb') as opnened_file:\n",
    "    sha512 = hashlib.sha512()\n",
    "    #sha512 = update(opened_file.read()))\n",
    "    hash_value = sha256.hexdigest\n",
    "\n",
    "csv_file = r'C:\\Users\\mharbauer\\Desktop\\Report.csv'\n",
    "headers = [['file_name', 'create_date', 'modify_date', 'file_date', 'file_size', 'hash_value']]\n",
    "\n",
    "with open(csv_file, 'a', newline='') as file:\n",
    "    writer = csv.writer(file)\n",
    "    writer.writerows(headers)\n",
    "    "
   ]
  },
  {
   "cell_type": "code",
   "execution_count": 55,
   "metadata": {},
   "outputs": [],
   "source": [
    "import hashlib\n",
    "import openpyxl\n",
    "import xlsxwriter\n",
    "import os\n",
    "from datetime import datetime\n",
    "\n",
    "# Define file path and filename\n",
    "path = r'C:\\Users\\mharbauer\\Desktop\\Report.xlsx'\n",
    "new_file_path = r'C:\\Users\\mharbauer\\Desktop\\HashReport.xlsx'\n",
    "\n",
    "# Open existing workbook and get active worksheet\n",
    "workbook = openpyxl.load_workbook(path)\n",
    "worksheet = workbook.active\n",
    "\n",
    "# Get file metadata\n",
    "#file_name = os.path.basename(path)\n",
    "#create_date = datetime.fromtimestamp(os.path.getctime(path)).strftime('%Y-%m-%d %H:%M:%S')\n",
    "#modify_date = datetime.fromtimestamp(os.path.getmtime(path)).strftime('%Y-%m-%d %H:%M:%S')\n",
    "#file_date = datetime.fromtimestamp(os.path.getmtime(path)).strftime('%Y-%m-%d')\n",
    "#file_size = os.path.getsize(path)\n",
    "\n",
    "\n",
    "with open(path, 'rb') as opened_file:\n",
    "    sha512 = hashlib.sha512()\n",
    "    while True:\n",
    "        data = opened_file.read(65536)\n",
    "        if not data:\n",
    "            break\n",
    "        sha512.update(data)\n",
    "    hash_value = sha512.hexdigest()\n",
    "\n",
    "# Create new workbook and worksheet, add headers, and hash value to second row of worksheet\n",
    "workbook = xlsxwriter.Workbook(new_file_path)\n",
    "worksheet = workbook.add_worksheet()\n",
    "\n",
    "headers = ['file_name', 'create_date', 'modify_date', 'file_date', 'file_size', 'hash_value']\n",
    "for i, header in enumerate(headers):\n",
    "    worksheet.write(0, i, header)\n",
    "\n",
    "row_data = [file_name, create_date, modify_date, file_date, file_size, hash_value]\n",
    "for i, data in enumerate(row_data):\n",
    "    worksheet.write(1, i, data)\n",
    "\n",
    "workbook.close()\n"
   ]
  }
 ],
 "metadata": {
  "kernelspec": {
   "display_name": "base",
   "language": "python",
   "name": "python3"
  },
  "language_info": {
   "codemirror_mode": {
    "name": "ipython",
    "version": 3
   },
   "file_extension": ".py",
   "mimetype": "text/x-python",
   "name": "python",
   "nbconvert_exporter": "python",
   "pygments_lexer": "ipython3",
   "version": "3.9.12"
  },
  "orig_nbformat": 4
 },
 "nbformat": 4,
 "nbformat_minor": 2
}
