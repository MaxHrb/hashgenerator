{
 "cells": [
  {
   "cell_type": "code",
   "execution_count": 1,
   "metadata": {},
   "outputs": [
    {
     "name": "stdout",
     "output_type": "stream",
     "text": [
      "test\n"
     ]
    }
   ],
   "source": [
    "print('test')"
   ]
  },
  {
   "cell_type": "code",
   "execution_count": 2,
   "metadata": {},
   "outputs": [],
   "source": [
    "import hashlib"
   ]
  },
  {
   "cell_type": "code",
   "execution_count": 9,
   "metadata": {},
   "outputs": [
    {
     "name": "stdout",
     "output_type": "stream",
     "text": [
      "result\n",
      "\n",
      "sha256: e3b0c44298fc1c149afbf4c8996fb92427ae41e4649b934ca495991b7852b855\n"
     ]
    }
   ],
   "source": [
    "path = r'C:\\Users\\mharbauer\\Desktop\\Report.xlsx'\n",
    "\n",
    "with open(path, 'rb') as opnened_file:\n",
    "    #content = opened_file.read()\n",
    "    sha256 = hashlib.sha256()\n",
    "\n",
    "    #sha265.update(content)\n",
    "\n",
    "print ('result')\n",
    "print()\n",
    "print('{}: {}'.format(sha256.name,sha256.hexdigest()))\n",
    "\n"
   ]
  }
 ],
 "metadata": {
  "kernelspec": {
   "display_name": "base",
   "language": "python",
   "name": "python3"
  },
  "language_info": {
   "codemirror_mode": {
    "name": "ipython",
    "version": 3
   },
   "file_extension": ".py",
   "mimetype": "text/x-python",
   "name": "python",
   "nbconvert_exporter": "python",
   "pygments_lexer": "ipython3",
   "version": "3.9.12"
  },
  "orig_nbformat": 4
 },
 "nbformat": 4,
 "nbformat_minor": 2
}


import hashlib
import os
import openpyxl
from datetime import datetime

# Specify the path to the file to be hashed
path = r'C:\Users\mharbauer\Desktop\Report.xlsx'

# Open the file and calculate the SHA-256 hash
with open(path, 'rb') as opened_file:
    sha256 = hashlib.sha256()
    while True:
        data = opened_file.read(65536)
        if not data:
            break
        sha256.update(data)

# Get information about the file to be hashed
filename = os.path.basename(path)
create_date = datetime.fromtimestamp(os.path.getctime(path)).strftime('%Y-%m-%d %H:%M:%S')
modify_date = datetime.fromtimestamp(os.path.getmtime(path)).strftime('%Y-%m-%d %H:%M:%S')
file_size = os.path.getsize(path)

# Create a new Excel workbook object and select the active worksheet
workbook = openpyxl.Workbook()
worksheet = workbook.active

# Add headers to the worksheet
header_row = ['file_name', 'create_date', 'modify_date', 'file_size', 'hash_value']
worksheet.append(header_row)

# Add data to the worksheet
data_row = [filename, create_date, modify_date, file_size, sha256.hexdigest()]
worksheet.append(data_row)

# Save the workbook to a new file
new_file_path = r'C:\Users\mharbauer\Desktop\ReportHash.xlsx'
workbook.save(new_file_path)
